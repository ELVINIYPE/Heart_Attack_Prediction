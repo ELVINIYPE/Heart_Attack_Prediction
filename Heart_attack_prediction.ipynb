{
 "cells": [
  {
   "cell_type": "code",
   "execution_count": 2,
   "metadata": {},
   "outputs": [],
   "source": [
    "from warnings import simplefilter\n",
    "import matplotlib.pyplot as plt\n",
    "import seaborn as sns\n",
    "import matplotlib.pyplot as plt\n",
    "import numpy as np\n",
    "import pandas as pd\n",
    "import seaborn as sns\n",
    "simplefilter(action='ignore', category=FutureWarning)"
   ]
  },
  {
   "cell_type": "code",
   "execution_count": 11,
   "metadata": {},
   "outputs": [],
   "source": [
    "filename = 'processed.cleveland.csv'"
   ]
  },
  {
   "cell_type": "code",
   "execution_count": 14,
   "metadata": {},
   "outputs": [],
   "source": [
    "df = pd.read_csv(filename, header=None)"
   ]
  },
  {
   "cell_type": "code",
   "execution_count": 16,
   "metadata": {},
   "outputs": [],
   "source": [
    "df.columns = ['age', 'sex', 'cp', 'trestbps', 'chol', 'fbs', 'restecg', 'thalach', 'exang', 'oldpeak', 'slope', 'ca',\n",
    "              'thal', 'target']"
   ]
  },
  {
   "cell_type": "markdown",
   "metadata": {},
   "source": [
    "# cleaning the data"
   ]
  },
  {
   "cell_type": "code",
   "execution_count": 17,
   "metadata": {},
   "outputs": [],
   "source": [
    "# 1) finding values with question mark \"?\" and replacing it with null value\n",
    "new_df = df.replace('?', np.NaN)\n",
    "# 2) finding null value, if more than 6 parameters are null delete the row\n",
    "new_df = new_df.dropna(thresh=6)\n",
    "# 3) if its null value, replacing it with 0\n",
    "new_df = new_df.fillna(0)"
   ]
  },
  {
   "cell_type": "code",
   "execution_count": 18,
   "metadata": {},
   "outputs": [],
   "source": [
    "new_df['target'] = new_df.target.map({0: 0, 1: 1, 2: 1, 3: 1, 4: 1})"
   ]
  },
  {
   "cell_type": "markdown",
   "metadata": {},
   "source": [
    "# writing the cleaned data frame into excel"
   ]
  },
  {
   "cell_type": "code",
   "execution_count": 19,
   "metadata": {},
   "outputs": [
    {
     "name": "stdout",
     "output_type": "stream",
     "text": [
      "NEW DATA SET\n",
      "      age  sex   cp  trestbps   chol  fbs  restecg  thalach  exang  oldpeak  \\\n",
      "0    63.0  1.0  1.0     145.0  233.0  1.0      2.0    150.0    0.0      2.3   \n",
      "1    67.0  1.0  4.0     160.0  286.0  0.0      2.0    108.0    1.0      1.5   \n",
      "2    67.0  1.0  4.0     120.0  229.0  0.0      2.0    129.0    1.0      2.6   \n",
      "3    37.0  1.0  3.0     130.0  250.0  0.0      0.0    187.0    0.0      3.5   \n",
      "4    41.0  0.0  2.0     130.0  204.0  0.0      2.0    172.0    0.0      1.4   \n",
      "..    ...  ...  ...       ...    ...  ...      ...      ...    ...      ...   \n",
      "298  45.0  1.0  1.0     110.0  264.0  0.0      0.0    132.0    0.0      1.2   \n",
      "299  68.0  1.0  4.0     144.0  193.0  1.0      0.0    141.0    0.0      3.4   \n",
      "300  57.0  1.0  4.0     130.0  131.0  0.0      0.0    115.0    1.0      1.2   \n",
      "301  57.0  0.0  2.0     130.0  236.0  0.0      2.0    174.0    0.0      0.0   \n",
      "302  38.0  1.0  3.0     138.0  175.0  0.0      0.0    173.0    0.0      0.0   \n",
      "\n",
      "     slope   ca thal  target  \n",
      "0      3.0  0.0  6.0       0  \n",
      "1      2.0  3.0  3.0       1  \n",
      "2      2.0  2.0  7.0       1  \n",
      "3      3.0  0.0  3.0       0  \n",
      "4      1.0  0.0  3.0       0  \n",
      "..     ...  ...  ...     ...  \n",
      "298    2.0  0.0  7.0       1  \n",
      "299    2.0  2.0  7.0       1  \n",
      "300    2.0  1.0  7.0       1  \n",
      "301    2.0  1.0  3.0       1  \n",
      "302    1.0    0  3.0       0  \n",
      "\n",
      "[303 rows x 14 columns]\n"
     ]
    }
   ],
   "source": [
    "print(\"NEW DATA SET\")\n",
    "print(new_df)\n",
    "new_df.to_csv(\"output.csv\")"
   ]
  },
  {
   "cell_type": "markdown",
   "metadata": {},
   "source": [
    "# data preproccessing"
   ]
  },
  {
   "cell_type": "code",
   "execution_count": 20,
   "metadata": {},
   "outputs": [
    {
     "name": "stdout",
     "output_type": "stream",
     "text": [
      "0      0\n",
      "1      1\n",
      "2      1\n",
      "3      0\n",
      "4      0\n",
      "      ..\n",
      "298    1\n",
      "299    1\n",
      "300    1\n",
      "301    1\n",
      "302    0\n",
      "Name: target, Length: 303, dtype: int64\n"
     ]
    }
   ],
   "source": [
    "inputs = new_df.drop('target',axis='columns')\n",
    "\n",
    "target = new_df['target']\n",
    "print(target)"
   ]
  },
  {
   "cell_type": "markdown",
   "metadata": {},
   "source": [
    "# GRAPH"
   ]
  },
  {
   "cell_type": "markdown",
   "metadata": {},
   "source": [
    "# Variation of Age for each target class"
   ]
  },
  {
   "cell_type": "code",
   "execution_count": 24,
   "metadata": {},
   "outputs": [
    {
     "data": {
      "image/png": "[encoded data removed]",
      "text/plain": [
       "<Figure size 434.61x360 with 1 Axes>"
      ]
     },
     "metadata": {
      "needs_background": "light"
     },
     "output_type": "display_data"
    }
   ],
   "source": [
    "sns.set_context(\"paper\", font_scale=2, rc={\"font.size\": 20, \"axes.titlesize\": 25, \"axes.labelsize\": 20})\n",
    "sns.catplot(kind='count', data=new_df, x='age', hue='target', order=new_df['age'].sort_values().unique())\n",
    "plt.title('Variation of Age for each target class')\n",
    "plt.show()"
   ]
  },
  {
   "cell_type": "markdown",
   "metadata": {},
   "source": [
    "# Distribution of age vs sex with the target class"
   ]
  },
  {
   "cell_type": "code",
   "execution_count": 22,
   "metadata": {},
   "outputs": [
    {
     "data": {
      "image/png": "[encoded data removed]",
      "text/plain": [
       "<Figure size 397.305x360 with 1 Axes>"
      ]
     },
     "metadata": {
      "needs_background": "light"
     },
     "output_type": "display_data"
    }
   ],
   "source": [
    "sns.catplot(kind='bar', data=new_df, y='age', x='sex', hue='target')\n",
    "plt.title('Distribution of age vs sex with the target class')\n",
    "plt.show()"
   ]
  },
  {
   "cell_type": "markdown",
   "metadata": {},
   "source": [
    "# Distribution of CHOLESTROL VS COUNT with the target class"
   ]
  },
  {
   "cell_type": "code",
   "execution_count": 23,
   "metadata": {},
   "outputs": [
    {
     "data": {
      "image/png": "[encoded data removed]",
      "text/plain": [
       "<Figure size 397.305x360 with 1 Axes>"
      ]
     },
     "metadata": {
      "needs_background": "light"
     },
     "output_type": "display_data"
    }
   ],
   "source": [
    "sns.set_context(\"paper\", font_scale=1, rc={\"font.size\": 20, \"axes.titlesize\": 5, \"axes.labelsize\": 20})\n",
    "sns.catplot(kind='count', data=new_df, x='chol', hue='target', order=new_df['chol'].sort_values().unique())\n",
    "plt.title('Distribution of CHOLESTROL VS COUNT with the target class')\n",
    "plt.show()"
   ]
  },
  {
   "cell_type": "markdown",
   "metadata": {},
   "source": [
    "# LABEL ENCODER"
   ]
  },
  {
   "cell_type": "code",
   "execution_count": 25,
   "metadata": {},
   "outputs": [],
   "source": [
    "from sklearn.preprocessing import LabelEncoder\n",
    "le_age = LabelEncoder()\n",
    "le_sex = LabelEncoder()\n",
    "le_cp = LabelEncoder()\n",
    "le_trestbps = LabelEncoder()\n",
    "le_chol = LabelEncoder()\n",
    "le_fbs = LabelEncoder()\n",
    "le_restecg = LabelEncoder()\n",
    "le_thalach = LabelEncoder()\n",
    "le_exang = LabelEncoder()\n",
    "le_oldpeak = LabelEncoder()\n",
    "le_slope = LabelEncoder()\n"
   ]
  },
  {
   "cell_type": "code",
   "execution_count": 26,
   "metadata": {},
   "outputs": [
    {
     "name": "stdout",
     "output_type": "stream",
     "text": [
      "inputs\n",
      "      age  sex   cp  trestbps   chol  fbs  restecg  thalach  exang  oldpeak  \\\n",
      "0    63.0  1.0  1.0     145.0  233.0  1.0      2.0    150.0    0.0      2.3   \n",
      "1    67.0  1.0  4.0     160.0  286.0  0.0      2.0    108.0    1.0      1.5   \n",
      "2    67.0  1.0  4.0     120.0  229.0  0.0      2.0    129.0    1.0      2.6   \n",
      "3    37.0  1.0  3.0     130.0  250.0  0.0      0.0    187.0    0.0      3.5   \n",
      "4    41.0  0.0  2.0     130.0  204.0  0.0      2.0    172.0    0.0      1.4   \n",
      "..    ...  ...  ...       ...    ...  ...      ...      ...    ...      ...   \n",
      "298  45.0  1.0  1.0     110.0  264.0  0.0      0.0    132.0    0.0      1.2   \n",
      "299  68.0  1.0  4.0     144.0  193.0  1.0      0.0    141.0    0.0      3.4   \n",
      "300  57.0  1.0  4.0     130.0  131.0  0.0      0.0    115.0    1.0      1.2   \n",
      "301  57.0  0.0  2.0     130.0  236.0  0.0      2.0    174.0    0.0      0.0   \n",
      "302  38.0  1.0  3.0     138.0  175.0  0.0      0.0    173.0    0.0      0.0   \n",
      "\n",
      "     ...  le_sex le_cp le_trestbps  le_chol  le_fbs  le_restecg  le_thalach  \\\n",
      "0    ...       1     0          31       64       1           2          49   \n",
      "1    ...       1     3          40      111       0           2          10   \n",
      "2    ...       1     3          14       60       0           2          29   \n",
      "3    ...       1     2          22       80       0           0          84   \n",
      "4    ...       0     1          22       35       0           2          71   \n",
      "..   ...     ...   ...         ...      ...     ...         ...         ...   \n",
      "298  ...       1     0           8       93       0           0          32   \n",
      "299  ...       1     3          30       26       1           0          40   \n",
      "300  ...       1     3          22        1       0           0          16   \n",
      "301  ...       0     1          22       67       0           2          73   \n",
      "302  ...       1     2          27       13       0           0          72   \n",
      "\n",
      "     le_exang  le_oldpeak  le_slope  \n",
      "0           0          22         2  \n",
      "1           1          15         1  \n",
      "2           1          25         1  \n",
      "3           0          32         2  \n",
      "4           0          14         0  \n",
      "..        ...         ...       ...  \n",
      "298         0          12         1  \n",
      "299         0          31         1  \n",
      "300         1          12         1  \n",
      "301         0           0         1  \n",
      "302         0           0         0  \n",
      "\n",
      "[303 rows x 24 columns]\n",
      "inputs\n",
      "      ca thal  le_age  le_sex  le_cp  le_trestbps  le_chol  le_fbs  \\\n",
      "0    0.0  6.0      29       1      0           31       64       1   \n",
      "1    3.0  3.0      33       1      3           40      111       0   \n",
      "2    2.0  7.0      33       1      3           14       60       0   \n",
      "3    0.0  3.0       3       1      2           22       80       0   \n",
      "4    0.0  3.0       7       0      1           22       35       0   \n",
      "..   ...  ...     ...     ...    ...          ...      ...     ...   \n",
      "298  0.0  7.0      11       1      0            8       93       0   \n",
      "299  2.0  7.0      34       1      3           30       26       1   \n",
      "300  1.0  7.0      23       1      3           22        1       0   \n",
      "301  1.0  3.0      23       0      1           22       67       0   \n",
      "302    0  3.0       4       1      2           27       13       0   \n",
      "\n",
      "     le_restecg  le_thalach  le_exang  le_oldpeak  le_slope  \n",
      "0             2          49         0          22         2  \n",
      "1             2          10         1          15         1  \n",
      "2             2          29         1          25         1  \n",
      "3             0          84         0          32         2  \n",
      "4             2          71         0          14         0  \n",
      "..          ...         ...       ...         ...       ...  \n",
      "298           0          32         0          12         1  \n",
      "299           0          40         0          31         1  \n",
      "300           0          16         1          12         1  \n",
      "301           2          73         0           0         1  \n",
      "302           0          72         0           0         0  \n",
      "\n",
      "[303 rows x 13 columns]\n"
     ]
    }
   ],
   "source": [
    "inputs['le_age'] = le_age.fit_transform(inputs['age'])\n",
    "inputs['le_sex'] = le_sex.fit_transform(inputs['sex'])\n",
    "inputs['le_cp'] = le_cp.fit_transform(inputs['cp'])\n",
    "inputs['le_trestbps'] = le_trestbps.fit_transform(inputs['trestbps'])\n",
    "inputs['le_chol'] = le_chol.fit_transform(inputs['chol'])\n",
    "inputs['le_fbs'] = le_fbs.fit_transform(inputs['fbs'])\n",
    "inputs['le_restecg'] = le_restecg.fit_transform(inputs['restecg'])\n",
    "inputs['le_thalach'] = le_thalach.fit_transform(inputs['thalach'])\n",
    "inputs['le_exang'] = le_exang.fit_transform(inputs['exang'])\n",
    "inputs['le_oldpeak'] = le_oldpeak.fit_transform(inputs['oldpeak'])\n",
    "inputs['le_slope'] = le_slope.fit_transform(inputs['slope'])\n",
    "\n",
    "print(\"inputs\")\n",
    "print(inputs)\n",
    "\n",
    "inputsn = inputs.drop(['age','sex','cp','trestbps','chol','fbs','restecg','thalach','exang','oldpeak','slope'],axis='columns')\n",
    "print(\"inputs\")\n",
    "print(inputsn)"
   ]
  },
  {
   "cell_type": "code",
   "execution_count": 27,
   "metadata": {},
   "outputs": [],
   "source": [
    "X = inputsn.iloc[:, :-1].values\n",
    "y = target"
   ]
  },
  {
   "cell_type": "markdown",
   "metadata": {},
   "source": [
    "# Train Test, Decision Tree ML agorithm"
   ]
  },
  {
   "cell_type": "code",
   "execution_count": 28,
   "metadata": {},
   "outputs": [
    {
     "name": "stdout",
     "output_type": "stream",
     "text": [
      "X_train\n",
      "[['3.0' '7.0' 29 ... 53 0 35]\n",
      " ['0.0' '3.0' 21 ... 18 1 31]\n",
      " ['2.0' '7.0' 22 ... 33 1 35]\n",
      " ...\n",
      " ['1.0' '7.0' 28 ... 5 0 12]\n",
      " ['1.0' '7.0' 21 ... 30 1 19]\n",
      " ['0.0' '3.0' 25 ... 25 0 0]]\n",
      "X_test\n",
      "[['2.0' '7.0' 14 1 3 22 85 1 2 49 1 0]\n",
      " ['1.0' '3.0' 7 0 1 5 30 0 0 67 0 0]\n",
      " ['0.0' '7.0' 36 1 3 31 12 0 0 25 1 25]\n",
      " ['1.0' '7.0' 27 1 3 14 89 0 0 39 1 33]\n",
      " ['1.0' '6.0' 23 1 3 34 104 0 2 13 1 6]\n",
      " ['0.0' '3.0' 21 1 1 22 91 0 0 54 0 0]\n",
      " ['0.0' '7.0' 30 0 2 28 130 0 0 33 0 2]\n",
      " ['0.0' '3.0' 11 0 1 9 5 0 0 37 0 0]\n",
      " ['0.0' '3.0' 11 1 3 11 89 0 2 82 0 0]\n",
      " ['0.0' '3.0' 7 1 2 22 45 0 2 67 0 19]\n",
      " ['2.0' '7.0' 33 1 3 18 83 1 0 62 0 2]\n",
      " ['1.0' '7.0' 29 1 3 22 83 0 2 46 0 14]\n",
      " ['0.0' '3.0' 7 1 2 9 80 0 0 77 0 0]\n",
      " ['1.0' '7.0' 21 1 3 40 113 0 2 44 1 8]\n",
      " ['0.0' '7.0' 19 1 3 28 34 1 2 54 1 29]\n",
      " ['0.0' '3.0' 18 0 2 26 28 0 2 68 0 1]\n",
      " ['0.0' '3.0' 14 1 3 15 53 0 2 83 0 0]\n",
      " ['0.0' '6.0' 18 1 0 13 22 0 2 86 0 0]\n",
      " ['0.0' '3.0' 11 0 1 22 65 0 2 74 0 6]\n",
      " ['3.0' '3.0' 36 1 3 22 135 0 2 11 0 23]\n",
      " ['2.0' '3.0' 37 0 1 40 121 0 0 61 0 4]\n",
      " ['0.0' '3.0' 25 1 2 34 43 1 0 56 0 16]\n",
      " ['0.0' '7.0' 22 1 3 22 109 1 2 7 1 16]\n",
      " ['0.0' '7.0' 23 0 3 28 71 0 0 23 1 2]\n",
      " ['2.0' '3.0' 33 0 3 6 54 0 0 41 0 3]\n",
      " ['1.0' '7.0' 27 1 3 33 34 0 0 60 0 0]\n",
      " ['3.0' '7.0' 23 1 3 42 113 1 2 24 0 10]\n",
      " ['0.0' '7.0' 25 1 3 25 65 0 0 60 0 5]\n",
      " ['0.0' '3.0' 20 1 3 28 69 0 0 59 0 12]\n",
      " ['2.0' '7.0' 18 1 3 18 43 0 0 67 0 10]\n",
      " ['0.0' '3.0' 24 1 1 14 110 0 2 59 0 17]\n",
      " ['0.0' '3.0' 19 0 3 22 93 0 2 42 0 4]\n",
      " ['0.0' '7.0' 22 1 1 22 52 0 2 62 0 0]\n",
      " ['0.0' '3.0' 9 1 3 34 77 0 0 70 0 15]\n",
      " ['1.0' '3.0' 32 1 3 9 43 0 2 32 1 1]\n",
      " ['2.0' '6.0' 31 1 3 8 78 0 2 57 0 6]\n",
      " ['0.0' '3.0' 28 0 3 28 147 0 2 56 0 12]\n",
      " ['0.0' '3.0' 29 0 2 25 81 0 2 71 0 0]\n",
      " ['1.0' '7.0' 20 1 3 14 24 0 0 14 0 14]\n",
      " ['1.0' '3.0' 23 0 3 20 122 0 2 58 0 0]\n",
      " ['0.0' '3.0' 21 0 1 23 143 0 0 65 0 12]\n",
      " ['0.0' '3.0' 20 0 2 7 96 0 2 66 0 0]\n",
      " ['0.0' '3.0' 30 1 0 8 42 0 2 43 1 17]\n",
      " ['0.0' '3.0' 12 1 2 34 62 0 0 46 0 33]\n",
      " ['0.0' '7.0' 25 1 0 43 112 0 2 58 0 2]\n",
      " ['0.0' '3.0' 25 1 1 28 52 0 0 63 1 0]\n",
      " ['0.0' '3.0' 26 0 0 34 70 0 0 70 0 9]\n",
      " ['0.0' '7.0' 25 1 0 46 99 0 2 44 0 36]\n",
      " ['2.0' '3.0' 14 1 2 17 84 1 0 74 0 0]\n",
      " ['0.0' '7.0' 33 0 2 11 151 0 2 59 0 16]\n",
      " ['0.0' '3.0' 7 0 2 9 97 0 2 71 1 0]\n",
      " ['3.0' '3.0' 40 1 3 18 123 0 2 61 1 0]\n",
      " ['0.0' '3.0' 9 1 3 11 122 0 0 79 0 12]\n",
      " ['0.0' '3.0' 19 1 2 22 29 1 2 51 0 12]\n",
      " ['1.0' '7.0' 26 1 3 22 82 0 0 43 1 14]\n",
      " ['1.0' '7.0' 23 1 2 20 60 0 2 49 0 4]\n",
      " ['0.0' '7.0' 11 1 0 8 93 0 0 32 0 12]\n",
      " ['0.0' '3.0' 15 0 3 22 98 0 0 62 0 0]\n",
      " ['2.0' '3.0' 33 1 3 1 119 0 2 25 1 9]\n",
      " ['0.0' '7.0' 9 1 3 14 15 0 2 20 1 24]\n",
      " ['0.0' '3.0' 24 1 2 28 42 1 2 64 0 0]]\n",
      "y_tarin\n",
      "121    1\n",
      "231    1\n",
      "126    1\n",
      "1      1\n",
      "59     0\n",
      "      ..\n",
      "273    0\n",
      "82     0\n",
      "114    1\n",
      "282    1\n",
      "199    1\n",
      "Name: target, Length: 242, dtype: int64\n",
      "y_test\n",
      "120    1\n",
      "50     0\n",
      "136    1\n",
      "108    1\n",
      "37     1\n",
      "      ..\n",
      "298    1\n",
      "242    0\n",
      "195    1\n",
      "36     1\n",
      "116    0\n",
      "Name: target, Length: 61, dtype: int64\n",
      ".............................\n",
      "model_fit\n"
     ]
    }
   ],
   "source": [
    "from sklearn.model_selection import train_test_split\n",
    "\n",
    "\n",
    "X_train, X_test, y_train, y_test = train_test_split(X, y, test_size=0.2)  # test_size = 20%    #random_state to get same sample\n",
    "\n",
    "print(\"X_train\")\n",
    "print(X_train)\n",
    "print(\"X_test\")\n",
    "print(X_test)\n",
    "print(\"y_tarin\")\n",
    "print(y_train)\n",
    "print(\"y_test\")\n",
    "print(y_test)\n",
    "from sklearn import tree\n",
    "model = tree.DecisionTreeClassifier()\n",
    "\n",
    "print(\".............................\")\n",
    "print(\"model_fit\")\n",
    "\n",
    "model.fit(X_train, y_train)\n",
    "\n",
    "y_pred = model.predict(X_test)\n"
   ]
  },
  {
   "cell_type": "markdown",
   "metadata": {},
   "source": [
    "# Prediction"
   ]
  },
  {
   "cell_type": "code",
   "execution_count": 30,
   "metadata": {},
   "outputs": [
    {
     "name": "stdout",
     "output_type": "stream",
     "text": [
      "chance of having heart attack for the patient\n",
      "\n",
      "Accuracy for training set for Decision Tree = 100.0\n",
      "Accuracy for test set for Decision Tree = 62.295081967213115\n"
     ]
    }
   ],
   "source": [
    "print(\"chance of having heart attack for the patient\")\n",
    "\n",
    "from sklearn.metrics import confusion_matrix\n",
    "cm_test = confusion_matrix(y_pred, y_test)\n",
    "y_pred_train = model.predict(X_train)\n",
    "cm_train = confusion_matrix(y_pred_train, y_train)\n",
    "print()\n",
    "print('Accuracy for training set for Decision Tree = {}'.format(100 * (cm_train[0][0] + cm_train[1][1]) / len(y_train)))\n",
    "\n",
    "print('Accuracy for test set for Decision Tree = {}'.format(100 * (cm_test[0][0] + cm_test[1][1]) / len(y_test)))"
   ]
  }
 ],
 "metadata": {
  "kernelspec": {
   "display_name": "Python 3",
   "language": "python",
   "name": "python3"
  },
  "language_info": {
   "codemirror_mode": {
    "name": "ipython",
    "version": 3
   },
   "file_extension": ".py",
   "mimetype": "text/x-python",
   "name": "python",
   "nbconvert_exporter": "python",
   "pygments_lexer": "ipython3",
   "version": "3.8.3"
  }
 },
 "nbformat": 4,
 "nbformat_minor": 4
}
